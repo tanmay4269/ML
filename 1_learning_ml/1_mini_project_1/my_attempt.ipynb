{
 "cells": [
  {
   "attachments": {},
   "cell_type": "markdown",
   "metadata": {},
   "source": [
    "# No TF Approach"
   ]
  },
  {
   "cell_type": "code",
   "execution_count": 34,
   "metadata": {},
   "outputs": [],
   "source": [
    "import numpy as np \n",
    "import pandas as pd \n",
    "import matplotlib.pyplot as plt \n",
    "\n",
    "\"\"\" Extracting data \"\"\"\n",
    "true_train_df = pd.read_csv(\"datasets/train.csv\")\n",
    "true_test_df = pd.read_csv(\"datasets/test.csv\")\n",
    "\n",
    "X = np.array([np.array(true_train_df.iloc[:, i]) for i in range(true_train_df.shape[1] - 1)])  # \"-1\" is to exclude the \"quality\" column\n",
    "X_test = np.array([np.array(true_test_df.iloc[:, i]) for i in range(true_test_df.shape[1])])\n",
    "\n",
    "Y = np.array(true_train_df.iloc[:, -1]).reshape(-1, 1)\n",
    "\n",
    "Y_test = pd.read_csv(\"datasets/sample_sub.csv\")\n",
    "Y_test = np.array(Y_test.iloc[:, 1]).reshape(-1, 1)\n",
    "\n",
    "# one-hot encoding: for \"type\" feature, white = 0 and not_white = 1\n",
    "X[0, :] = np.where(X[0, :] == \"white\", 0, 1)\n",
    "X_test[0, :] = np.where(X_test[0, :] == \"white\", 0, 1)\n",
    "\n",
    "# convert all to float64\n",
    "X = X.astype(np.float64)\n",
    "X_test = X_test.astype(np.float64)\n",
    "\"\"\" Normalization \"\"\"\n",
    "def map(x, in_min, in_max, out_min, out_max):\n",
    "    return (x - in_min) * (out_max - out_min) / (in_max - in_min) + out_min\n",
    "\n",
    "def normalize(x):\n",
    "    in_min = np.min(x, axis=0)\n",
    "    in_max = np.max(x, axis=0)\n",
    "    out_min = 0\n",
    "    out_max = 1\n",
    "\n",
    "    return (x - in_min) * (out_max - out_min) / (in_max - in_min) + out_min\n",
    "\n",
    "X = normalize(X)\n",
    "X_test = normalize(X_test)\n",
    "\n",
    "Y = normalize(Y)\n",
    "Y_test = normalize(Y_test)"
   ]
  },
  {
   "cell_type": "code",
   "execution_count": 35,
   "metadata": {},
   "outputs": [],
   "source": [
    "delta = 0.25  # very small delta doesnt allow the model to get over local minimas\n",
    "W = np.random.uniform(low=0.5-delta, high=0.5+delta, size=(X.shape[0], 1))\n",
    "b = 0\n",
    "\n",
    "m = X.shape[1]\n",
    "\n",
    "def cost(X, W, reg):\n",
    "    Y_pred = W.T @ X + b\n",
    "    m = X.shape[1]\n",
    "    J = (1/(2*m)) * np.sum( (Y - Y_pred)**2 ) + (reg/(2*m)) * np.sum(W**2, axis=0)\n",
    "    return J\n",
    "\n",
    "def update(lr, reg=0):  # lr -> learning rate; reg -> regularization\n",
    "    global W, b\n",
    "\n",
    "    Y_pred = (W.T @ X + b).T\n",
    "\n",
    "    # \"\"\" Traditional Gradient Descent \"\"\"\n",
    "    # dW = (-1/m) * (X @ (Y - Y_pred))\n",
    "    # db = (-1/m) * np.sum(Y - Y_pred, axis=0)\n",
    "\n",
    "    # W -= lr * dW\n",
    "    # b -= lr * db\n",
    "\n",
    "    # \"\"\" Stocastic Gradient Descent \"\"\"\n",
    "    # for i in range(X.shape[1]):\n",
    "    #     Y_pred = (W.T @ X[:, i] + b).T\n",
    "\n",
    "    #     dW = -1 * ((Y[i] - Y_pred) * X[:, i]).reshape(-1, 1) + (reg/m) * np.sum(W, axis=0)\n",
    "    #     db = -1 * (Y[i] - Y_pred)\n",
    "\n",
    "    #     W -= lr * dW\n",
    "    #     b -= lr * db\n",
    "\n",
    "    \"\"\" Batch Gradient Descent \"\"\"\n",
    "    batch_size = 32  # Set the desired batch size\n",
    "\n",
    "    # Calculate the number of batches\n",
    "    num_batches = X.shape[1] // batch_size\n",
    "\n",
    "    for _ in range(num_batches):\n",
    "        # Select a batch of samples\n",
    "        batch_start = _ * batch_size\n",
    "        batch_end = batch_start + batch_size\n",
    "        batch_X = X[:, batch_start:batch_end]\n",
    "        batch_Y = Y[batch_start:batch_end]\n",
    "\n",
    "        # Compute predictions for the batch\n",
    "        batch_Y_pred = (W.T @ batch_X + b).T\n",
    "\n",
    "        # Compute gradients for the batch\n",
    "        dW = (-1 / batch_size) * (batch_X @ (batch_Y - batch_Y_pred))\n",
    "        db = (-1 / batch_size) * np.sum(batch_Y - batch_Y_pred, axis=0)\n",
    "\n",
    "        # Update weights and bias using gradients\n",
    "        W -= lr * dW\n",
    "        b -= lr * db\n",
    "\n",
    "    return cost(X, W, reg)\n",
    "    "
   ]
  },
  {
   "cell_type": "code",
   "execution_count": 36,
   "metadata": {},
   "outputs": [
    {
     "data": {
      "image/png": "[encoded data removed]",
      "text/plain": [
       "<Figure size 640x480 with 1 Axes>"
      ]
     },
     "metadata": {},
     "output_type": "display_data"
    }
   ],
   "source": [
    "lr = 0.9\n",
    "decay_step = 50\n",
    "decay_rate = 0.5\n",
    "\n",
    "reg = 1000\n",
    "iterations = 10**3\n",
    "\n",
    "J = []\n",
    "\n",
    "for i in range(iterations):\n",
    "    # if i % decay_step == 0:\n",
    "    #     lr *= decay_rate\n",
    "\n",
    "    J.append(update(lr, reg))\n",
    "\n",
    "x = np.arange(len(J))\n",
    "plt.plot(x, J)\n",
    "plt.show()"
   ]
  },
  {
   "cell_type": "code",
   "execution_count": 37,
   "metadata": {},
   "outputs": [
    {
     "name": "stdout",
     "output_type": "stream",
     "text": [
      "[61.96999969]\n",
      "[64.92291516]\n"
     ]
    }
   ],
   "source": [
    "Y_pred = (W.T @ X_test + b)\n",
    "\n",
    "Y_test = map(Y_test, np.min(Y_test), np.max(Y_test), 0, 10).reshape(-1, 1)\n",
    "Y_pred = map(Y_pred, np.min(Y_pred), np.max(Y_pred), 0, 10).reshape(-1, 1)\n",
    "\n",
    "print(cost(X, W, reg))\n",
    "print(cost(X_test, W, reg))"
   ]
  },
  {
   "attachments": {},
   "cell_type": "markdown",
   "metadata": {},
   "source": [
    "# TF Approach"
   ]
  },
  {
   "attachments": {},
   "cell_type": "markdown",
   "metadata": {},
   "source": []
  }
 ],
 "metadata": {
  "kernelspec": {
   "display_name": "Python 3",
   "language": "python",
   "name": "python3"
  },
  "language_info": {
   "codemirror_mode": {
    "name": "ipython",
    "version": 3
   },
   "file_extension": ".py",
   "mimetype": "text/x-python",
   "name": "python",
   "nbconvert_exporter": "python",
   "pygments_lexer": "ipython3",
   "version": "3.8.10"
  },
  "orig_nbformat": 4
 },
 "nbformat": 4,
 "nbformat_minor": 2
}
