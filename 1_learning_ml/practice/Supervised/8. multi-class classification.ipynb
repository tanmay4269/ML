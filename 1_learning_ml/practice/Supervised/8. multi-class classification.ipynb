{
 "cells": [
  {
   "attachments": {},
   "cell_type": "markdown",
   "metadata": {},
   "source": [
    "# Implementation from Scratch"
   ]
  },
  {
   "cell_type": "code",
   "execution_count": 3,
   "metadata": {},
   "outputs": [
    {
     "name": "stdout",
     "output_type": "stream",
     "text": [
      "[1 1 1 1 1 1 2 2 2 2 2 3 3 3 3 3 4 4 4 4 4 4]\n"
     ]
    }
   ],
   "source": [
    "import numpy as np \n",
    "import math\n",
    "import matplotlib.pyplot as plt\n",
    "\n",
    "def scatter_points_around(center, radius, num_points):\n",
    "    angles = np.random.uniform(0, 2 * np.pi, num_points)\n",
    "    radii = np.random.uniform(0, radius, num_points)\n",
    "    \n",
    "    x_coords = center[0] + radii * np.cos(angles)\n",
    "    y_coords = center[1] + radii * np.sin(angles)\n",
    "    \n",
    "    points = np.column_stack((x_coords, y_coords))\n",
    "    \n",
    "    return points\n",
    "\n",
    "np.random.seed(69)\n",
    "p1 = scatter_points_around(\n",
    "    center=(0,0), \n",
    "    radius=np.random.uniform(low=1, high=5),\n",
    "    num_points=np.random.randint(low=5, high=10)\n",
    ")\n",
    "\n",
    "p2 = scatter_points_around(\n",
    "    center=(5,0), \n",
    "    radius=np.random.uniform(low=1, high=5),\n",
    "    num_points=np.random.randint(low=5, high=10)\n",
    ")\n",
    "\n",
    "p3 = scatter_points_around(\n",
    "    center=(0,5), \n",
    "    radius=np.random.uniform(low=1, high=5),\n",
    "    num_points=np.random.randint(low=5, high=10)\n",
    ")\n",
    "\n",
    "p4 = scatter_points_around(\n",
    "    center=(5,5), \n",
    "    radius=np.random.uniform(low=1, high=5),\n",
    "    num_points=np.random.randint(low=5, high=10)\n",
    ")\n",
    "\n",
    "X = np.vstack((p1,p2,p3,p4))\n",
    "\n",
    "lengths = [len(p1), len(p2), len(p3), len(p4)]\n",
    "Y = np.concatenate([np.full(length, i+1) for i, length in enumerate(lengths)])\n",
    "\n",
    "# plot of dataset"
   ]
  }
 ],
 "metadata": {
  "kernelspec": {
   "display_name": "Python 3",
   "language": "python",
   "name": "python3"
  },
  "language_info": {
   "codemirror_mode": {
    "name": "ipython",
    "version": 3
   },
   "file_extension": ".py",
   "mimetype": "text/x-python",
   "name": "python",
   "nbconvert_exporter": "python",
   "pygments_lexer": "ipython3",
   "version": "3.11.3"
  },
  "orig_nbformat": 4
 },
 "nbformat": 4,
 "nbformat_minor": 2
}
