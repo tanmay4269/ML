{
 "cells": [
  {
   "cell_type": "code",
   "execution_count": 7,
   "metadata": {},
   "outputs": [
    {
     "name": "stdout",
     "output_type": "stream",
     "text": [
      "df_columns: ['age', 'sex', 'bmi', 'children', 'smoker', 'region', 'charges']\n",
      "\n",
      "different values in column 'sex' ['female' 'male']\n",
      "different values in column 'childern' [0 1 3 2 5 4]\n",
      "different values in column 'smoker' ['yes' 'no']\n",
      "different values in column 'region' ['southwest' 'southeast' 'northwest' 'northeast']\n"
     ]
    }
   ],
   "source": [
    "import numpy as np \n",
    "import pandas as pd \n",
    "import matplotlib.pyplot as plt \n",
    "\n",
    "df = pd.read_csv('insurance.csv')\n",
    "df_columns = df.columns.tolist()  # features in df\n",
    "\n",
    "print(f\"df_columns: {df_columns}\\n\")\n",
    "\n",
    "print(f\"different values in column 'sex' {df['sex'].unique()}\")\n",
    "print(f\"different values in column 'childern' {df['children'].unique()}\")\n",
    "print(f\"different values in column 'smoker' {df['smoker'].unique()}\")\n",
    "print(f\"different values in column 'region' {df['region'].unique()}\")"
   ]
  },
  {
   "attachments": {},
   "cell_type": "markdown",
   "metadata": {},
   "source": [
    "## Categorical variables\n",
    "These are non-numeric categorical features\n",
    "The data in 'sex, region, smoker' are examples of categorical variables\n",
    "\n",
    "Subtypes: ordinal and v variables\n",
    "\n",
    "#### Ordinal variables\n",
    "Here the features have an order of importance like smoker < non-smoker, so we can assign 0 to smoker and 1 to non-smoker\n",
    "\n",
    "#### Nominal variables\n",
    "Here the features dont have an order of importance as such.\n",
    "e.g. region\n",
    "\n",
    "here we use one-hot encoding\n",
    "explaination: \n",
    "initially we had just one feature: direction, we can split this into four different features and have binary assignment for each direction. problem solved!"
   ]
  },
  {
   "cell_type": "code",
   "execution_count": 8,
   "metadata": {},
   "outputs": [],
   "source": [
    "X = [[] for _ in range(9)]\n",
    "X[0] = df['age']\n",
    "X[1] = df['bmi']\n",
    "X[2] = df['children']\n",
    "\n",
    "X[3] = df['sex']\n",
    "X[4] = df['smoker']\n",
    "\n",
    "X[5] = df['region']\n",
    "\n",
    "# X = np.array(X)\n",
    "\n",
    "Y = df['charges']\n",
    "# Y = np.array(Y)\n",
    "\n",
    "\"\"\"feature scaling: mean method: 'age', 'bmi', 'children'\"\"\"\n",
    "# storing these values as we need 'em later to give predictions\n",
    "feature_ranges = []\n",
    "feature_means = []\n",
    "\n",
    "for i in [0, 1, 2]:\n",
    "    feature_ranges.append(max(X[i]) - min(X[i]))\n",
    "    feature_means.append(sum(X[i]) / len(X[i]))\n",
    "    \n",
    "    X[i] -= feature_means[i]\n",
    "    X[i] /= feature_ranges[i] \n",
    "\n",
    "Y_range = max(Y) - min(Y)\n",
    "Y_mean = sum(Y) / len(Y)\n",
    "\n",
    "Y -= Y_mean\n",
    "Y /= Y_range\n"
   ]
  },
  {
   "cell_type": "code",
   "execution_count": 9,
   "metadata": {},
   "outputs": [],
   "source": [
    "\"\"\"fixing ordinal variables: 'sex', 'smoker'\"\"\"\n",
    "# sex\n",
    "sex_fixed = []\n",
    "for elem in X[3]:\n",
    "    if elem == \"female\":\n",
    "        sex_fixed.append(1)\n",
    "    else:\n",
    "        sex_fixed.append(0)\n",
    "\n",
    "X[3] = sex_fixed\n",
    "X[3] = np.array(X[3])\n",
    "\n",
    "# smoker\n",
    "smoke_fixed = []\n",
    "for elem in X[4]:  \n",
    "    if elem == \"yes\":\n",
    "        smoke_fixed.append(1)\n",
    "    else:\n",
    "        smoke_fixed.append(0)\n",
    "\n",
    "X[4] = smoke_fixed\n",
    "X[4] = np.array(X[4])"
   ]
  },
  {
   "cell_type": "code",
   "execution_count": 10,
   "metadata": {},
   "outputs": [],
   "source": [
    "\n",
    "# HIGHLY INEFFICIENT, FIX LATER\n",
    "\n",
    "\"\"\"fixing nominal variables: one-hot encoding: 'region'\"\"\"\n",
    "# 'southwest' 'southeast' 'northwest' 'northeast'\n",
    "temp_X = [[] for _ in range(9)]\n",
    "\n",
    "for elem in X[5]:\n",
    "    if elem == \"southwest\":\n",
    "        temp_X[5].append(1)\n",
    "        temp_X[6].append(0)\n",
    "        temp_X[7].append(0)\n",
    "        temp_X[8].append(0)\n",
    "    elif elem == \"southeast\":\n",
    "        temp_X[5].append(0)\n",
    "        temp_X[6].append(1)\n",
    "        temp_X[7].append(0)\n",
    "        temp_X[8].append(0)\n",
    "    elif elem == \"northwest\":\n",
    "        temp_X[5].append(0)\n",
    "        temp_X[6].append(0)\n",
    "        temp_X[7].append(1)\n",
    "        temp_X[8].append(0)\n",
    "    elif elem == \"northeast\":\n",
    "        temp_X[5].append(0)\n",
    "        temp_X[6].append(0)\n",
    "        temp_X[7].append(0)\n",
    "        temp_X[8].append(1)\n",
    "\n",
    "for i in [5,6,7,8]:\n",
    "    X[i] = temp_X[i]\n",
    "\n",
    "for i in range(9):\n",
    "    X[i] = np.array(X[i])\n",
    "\n",
    "Y = np.array(Y)"
   ]
  },
  {
   "cell_type": "code",
   "execution_count": 11,
   "metadata": {},
   "outputs": [
    {
     "name": "stdout",
     "output_type": "stream",
     "text": [
      "Final cost = 0.016202996717487986 achieved in 10002 steps.\n"
     ]
    }
   ],
   "source": [
    "import random\n",
    "w = np.array([random.uniform(-1, 1) for _ in range(len(X))])\n",
    "b = random.uniform(-1, 1)\n",
    "\n",
    "def update(lr, reg=10**(3)):  # reg -> regularization  \n",
    "  global w, b  # not writing this line costed me a lot of time\n",
    "    \n",
    "  Y_pred = np.dot(w, X) + b\n",
    "\n",
    "  # Gradient descent\n",
    "  dw = -1/len(Y) * (X @ (Y - Y_pred)) + (reg/len(Y)) * w\n",
    "  db = -1/len(Y) * (Y - Y_pred)\n",
    "\n",
    "  w -= lr * dw\n",
    "  b -= lr * db\n",
    "\n",
    "  J = 1/(2*len(Y)) * np.sum((Y - Y_pred)**2) + (reg/(2*len(Y))) * np.sum(w**2)\n",
    "  return J\n",
    "\n",
    "\n",
    "J = []\n",
    "learning_rate = 10**(-2)\n",
    "\n",
    "decay_steps = 100\n",
    "decay_rate = 0.9\n",
    "\n",
    "J.append(update(learning_rate))\n",
    "J.append(update(learning_rate))\n",
    "\n",
    "for _ in range(10**4):\n",
    "  J.append(update(learning_rate))\n",
    "\n",
    "  if len(J) % decay_steps == 0:\n",
    "    learning_rate *= decay_rate\n",
    "\n",
    "print(f\"Final cost = {J[-1]} achieved in {len(J)} steps.\")\n",
    "\n",
    "# while True:\n",
    "#   J.append(update(learning_rate))\n",
    "\n",
    "#   if len(J) % decay_steps == 0:\n",
    "#     learning_rate *= decay_rate\n",
    "\n",
    "#   if abs(J[-1] - J[-2]) < 10**(-3):\n",
    "#     print(f\"Final cost = {J[-1]} achieved in {len(J)} steps.\")\n",
    "#     break\n"
   ]
  },
  {
   "cell_type": "code",
   "execution_count": 12,
   "metadata": {},
   "outputs": [
    {
     "data": {
      "image/png": "[encoded data removed]",
      "text/plain": [
       "<Figure size 640x480 with 1 Axes>"
      ]
     },
     "metadata": {},
     "output_type": "display_data"
    },
    {
     "name": "stdout",
     "output_type": "stream",
     "text": [
      "0.8836851772179104\n"
     ]
    }
   ],
   "source": [
    "x = np.arange(len(J))\n",
    "plt.plot(x, J)\n",
    "plt.show()\n",
    "\n",
    "print(J[0])"
   ]
  }
 ],
 "metadata": {
  "kernelspec": {
   "display_name": "Python 3",
   "language": "python",
   "name": "python3"
  },
  "language_info": {
   "codemirror_mode": {
    "name": "ipython",
    "version": 3
   },
   "file_extension": ".py",
   "mimetype": "text/x-python",
   "name": "python",
   "nbconvert_exporter": "python",
   "pygments_lexer": "ipython3",
   "version": "3.11.3"
  },
  "orig_nbformat": 4
 },
 "nbformat": 4,
 "nbformat_minor": 2
}
