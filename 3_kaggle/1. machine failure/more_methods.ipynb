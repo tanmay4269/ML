{
 "cells": [
  {
   "cell_type": "code",
   "execution_count": 2,
   "source": [
    "import numpy as np\n",
    "import pandas as pd \n",
    "\n",
    "df_train = pd.read_csv(\"data/train.csv\")\n",
    "df_test = pd.read_csv(\"data/test.csv\")  # for final submission\n",
    "\n",
    "x_train = df_train.copy()\n",
    "x_train.drop('id', axis=1, inplace=True)\n",
    "x_train.drop('Product ID', axis=1, inplace=True)\n",
    "x_train.drop('Machine failure', axis=1, inplace=True)\n",
    "y_train = df_train[\"Machine failure\"]\n",
    "\n",
    "x_test = df_test.copy()\n",
    "x_test.drop('id', axis=1, inplace=True)\n",
    "x_test.drop('Product ID', axis=1, inplace=True)\n",
    "\n",
    "x_train = np.array(x_train)\n",
    "y_train = np.array(y_train, dtype=np.float32)\n",
    "x_test = np.array(x_test)\n",
    "\n",
    "lm_column = 0\n",
    "\n",
    "mapping = {'L': 0.0, 'M': 0.5, 'H': 1.0}\n",
    "x_train[:, lm_column] = np.where(x_train[:, lm_column] == 'L', 0.0, np.where(x_train[:, lm_column] == 'M', 0.5, 1.0))\n",
    "x_test[:, lm_column] = np.where(x_test[:, lm_column] == 'L', 0.0, np.where(x_test[:, lm_column] == 'M', 0.5, 1.0))\n",
    "\n",
    "x_train = x_train.astype(np.float32)\n",
    "x_test = x_test.astype(np.float32)"
   ],
   "outputs": [],
   "metadata": {}
  },
  {
   "cell_type": "code",
   "execution_count": 3,
   "source": [
    "from sklearn.model_selection import train_test_split\n",
    "\n",
    "x_train, x_cv, y_train, y_cv = train_test_split(x_train, y_train, test_size=0.2, random_state=42)"
   ],
   "outputs": [],
   "metadata": {}
  },
  {
   "cell_type": "code",
   "execution_count": 4,
   "source": [
    "from sklearn.ensemble import RandomForestClassifier\n",
    "\n",
    "# train model\n",
    "rfc = RandomForestClassifier(n_estimators=10).fit(x_train, y_train)\n",
    "\n",
    "# predict on test set\n",
    "rfc_pred = rfc.predict(x_cv)"
   ],
   "outputs": [],
   "metadata": {}
  },
  {
   "cell_type": "code",
   "execution_count": 5,
   "source": [
    "from sklearn.metrics import accuracy_score, f1_score, recall_score\n",
    "\n",
    "print(\"Random Forest Classifier\", \"\\n\\tAccuracy:\", accuracy_score(y_cv, rfc_pred), \"\\n\\tF1:\", f1_score(y_cv, rfc_pred), \"\\n\\tRecall:\", recall_score(y_cv, rfc_pred))"
   ],
   "outputs": [
    {
     "output_type": "stream",
     "name": "stdout",
     "text": [
      "Random Forest Classifier \n",
      "\tAccuracy: 0.9960052774316499 \n",
      "\tF1: 0.8604353393085787 \n",
      "\tRecall: 0.7671232876712328\n"
     ]
    }
   ],
   "metadata": {}
  },
  {
   "cell_type": "code",
   "execution_count": 6,
   "source": [
    "rfc_pred"
   ],
   "outputs": [
    {
     "output_type": "execute_result",
     "data": {
      "text/plain": [
       "array([1., 0., 0., ..., 0., 0., 0.], dtype=float32)"
      ]
     },
     "metadata": {},
     "execution_count": 6
    }
   ],
   "metadata": {}
  },
  {
   "cell_type": "code",
   "execution_count": 7,
   "source": [
    "rfc_final = rfc.predict(x_test)\n",
    "print(rfc_final)"
   ],
   "outputs": [
    {
     "output_type": "stream",
     "name": "stdout",
     "text": [
      "[0. 0. 0. ... 0. 0. 0.]\n"
     ]
    }
   ],
   "metadata": {}
  },
  {
   "cell_type": "code",
   "execution_count": 9,
   "source": [
    "indices = np.array(df_test[\"id\"], dtype=int).reshape(-1, 1)\n",
    "\n",
    "rfc_final = rfc_final.reshape(-1, 1)  # Reshape rfc_final to have 2 dimensions\n",
    "\n",
    "submission = np.hstack((indices, rfc_final))\n",
    "\n",
    "submission_df = pd.DataFrame(submission, columns=['id', 'Machine failure'])\n",
    "submission_df['id'] = submission_df['id'].astype(int)  # Convert \"id\" column to integer\n",
    "submission_df.to_csv(\"submissions/rfc.csv\", index=False)\n"
   ],
   "outputs": [],
   "metadata": {}
  },
  {
   "cell_type": "code",
   "execution_count": 9,
   "source": [
    "from sklearn.neural_network import MLPClassifier\n",
    "from sklearn.metrics import accuracy_score, f1_score, recall_score\n",
    "\n",
    "# Define the hyperparameters to be fine-tuned\n",
    "hidden_layer_sizes = (100, 50)  # Tuple representing the number of neurons in each hidden layer\n",
    "activation = 'relu'  # Activation function ('relu', 'logistic', 'tanh')\n",
    "alpha = 0.0001  # L2 regularization parameter\n",
    "learning_rate_init = 0.001  # Initial learning rate\n",
    "\n",
    "# Initialize the MLPClassifier with the specified hyperparameters\n",
    "model = MLPClassifier(hidden_layer_sizes=hidden_layer_sizes,\n",
    "                      activation=activation,\n",
    "                      alpha=alpha,\n",
    "                      learning_rate_init=learning_rate_init)\n",
    "\n",
    "# Train the model on the training data\n",
    "model.fit(x_train, y_train)\n",
    "\n",
    "# Evaluate performance on cross-validation data\n",
    "y_cv_pred = model.predict(x_cv)\n",
    "accuracy = accuracy_score(y_cv, y_cv_pred)\n",
    "f1 = f1_score(y_cv, y_cv_pred)\n",
    "recall = recall_score(y_cv, y_cv_pred)\n",
    "\n",
    "print(\"Cross-validation performance:\")\n",
    "print(\"Accuracy:\", accuracy)\n",
    "print(\"F1 score:\", f1)\n",
    "print(\"Recall:\", recall)\n",
    "\n",
    "# Generate predictions for the test data\n",
    "y_test_pred = model.predict(x_test)\n",
    "\n",
    "# Print the predictions for the test data\n",
    "print(\"Test data predictions:\")\n",
    "print(y_test_pred)\n"
   ],
   "outputs": [
    {
     "output_type": "stream",
     "name": "stdout",
     "text": [
      "Cross-validation performance:\n",
      "Accuracy: 0.9959686286007476\n",
      "F1 score: 0.8575129533678756\n",
      "Recall: 0.7557077625570776\n",
      "Test data predictions:\n",
      "[0. 0. 0. ... 0. 0. 0.]\n"
     ]
    }
   ],
   "metadata": {}
  },
  {
   "cell_type": "code",
   "execution_count": 10,
   "source": [
    "from sklearn.naive_bayes import GaussianNB\n",
    "from sklearn.metrics import accuracy_score, f1_score, recall_score\n",
    "\n",
    "# Initialize the Gaussian Naive Bayes model\n",
    "gnb = GaussianNB()\n",
    "\n",
    "# Train the model on the training data\n",
    "gnb.fit(x_train, y_train)\n",
    "\n",
    "# Predict on the cross-validation data\n",
    "y_cv_pred = gnb.predict(x_cv)\n",
    "\n",
    "# Calculate metrics for cross-validation predictions\n",
    "accuracy = accuracy_score(y_cv, y_cv_pred)\n",
    "f1 = f1_score(y_cv, y_cv_pred)\n",
    "recall = recall_score(y_cv, y_cv_pred)\n",
    "\n",
    "# Print cross-validation metrics\n",
    "print(\"Cross-validation performance:\")\n",
    "print(\"Accuracy:\", accuracy)\n",
    "print(\"F1 score:\", f1)\n",
    "print(\"Recall:\", recall)\n",
    "\n",
    "# Predict on the test data\n",
    "y_test_pred = gnb.predict(x_test)\n",
    "\n",
    "# Print predictions for the test data\n",
    "print(\"Test data predictions:\")\n",
    "print(y_test_pred)\n"
   ],
   "outputs": [
    {
     "output_type": "stream",
     "name": "stdout",
     "text": [
      "Cross-validation performance:\n",
      "Accuracy: 0.9960419262625523\n",
      "F1 score: 0.8625954198473281\n",
      "Recall: 0.773972602739726\n",
      "Test data predictions:\n",
      "[0. 0. 0. ... 0. 0. 0.]\n"
     ]
    }
   ],
   "metadata": {}
  },
  {
   "cell_type": "code",
   "execution_count": 12,
   "source": [
    "from sklearn.metrics import accuracy_score, f1_score, recall_score\n",
    "from xgboost import XGBClassifier\n",
    "\n",
    "# Initialize the XGBoost classifier\n",
    "model = XGBClassifier()\n",
    "\n",
    "# Train the model on the training data\n",
    "model.fit(x_train, y_train)\n",
    "\n",
    "# Make predictions on the cross-validation data\n",
    "y_cv_pred = model.predict(x_cv)\n",
    "\n",
    "# Evaluate performance on cross-validation data\n",
    "accuracy = accuracy_score(y_cv, y_cv_pred)\n",
    "f1 = f1_score(y_cv, y_cv_pred)\n",
    "recall = recall_score(y_cv, y_cv_pred)\n",
    "\n",
    "print(\"Cross-validation performance:\")\n",
    "print(\"Accuracy:\", accuracy)\n",
    "print(\"F1 score:\", f1)\n",
    "print(\"Recall:\", recall)\n",
    "\n",
    "# Generate predictions for the test data\n",
    "y_test_pred = model.predict(x_test)\n",
    "\n",
    "# Print the predictions for the test data\n",
    "print(\"Test data predictions:\")\n",
    "print(y_test_pred)\n"
   ],
   "outputs": [
    {
     "output_type": "stream",
     "name": "stdout",
     "text": [
      "Cross-validation performance:\n",
      "Accuracy: 0.9958586821080407\n",
      "F1 score: 0.8567807351077312\n",
      "Recall: 0.771689497716895\n",
      "Test data predictions:\n",
      "[0 0 0 ... 0 0 0]\n"
     ]
    }
   ],
   "metadata": {}
  }
 ],
 "metadata": {
  "orig_nbformat": 4,
  "language_info": {
   "name": "python",
   "version": "3.8.10",
   "mimetype": "text/x-python",
   "codemirror_mode": {
    "name": "ipython",
    "version": 3
   },
   "pygments_lexer": "ipython3",
   "nbconvert_exporter": "python",
   "file_extension": ".py"
  },
  "kernelspec": {
   "name": "python3",
   "display_name": "Python 3.8.10 64-bit"
  },
  "interpreter": {
   "hash": "916dbcbb3f70747c44a77c7bcd40155683ae19c65e1c03b4aa3499c5328201f1"
  }
 },
 "nbformat": 4,
 "nbformat_minor": 2
}