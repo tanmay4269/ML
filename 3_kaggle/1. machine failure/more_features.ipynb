{
 "cells": [
  {
   "cell_type": "code",
   "execution_count": 14,
   "source": [
    "import numpy as np\n",
    "import pandas as pd \n",
    "from sklearn.model_selection import train_test_split\n",
    "from sklearn.preprocessing import StandardScaler\n",
    "\n",
    "df_train = pd.read_csv(\"data/train.csv\")\n",
    "df_test = pd.read_csv(\"data/test.csv\")  # for final submission\n",
    "\n",
    "# Feature engineering\n",
    "df_train[\"Temperature ratio\"] = df_train['Process temperature [K]'] / df_train['Air temperature [K]']\n",
    "df_train['Torque * Rotational speed'] = df_train['Torque [Nm]'] * df_train['Rotational speed [rpm]']\n",
    "df_train['Torque * Tool wear'] = df_train['Torque [Nm]'] * df_train['Tool wear [min]']\n",
    "\n",
    "df_test[\"Temperature ratio\"] = df_test['Process temperature [K]'] / df_test['Air temperature [K]']\n",
    "df_test['Torque * Rotational speed'] = df_test['Torque [Nm]'] * df_test['Rotational speed [rpm]']\n",
    "df_test['Torque * Tool wear'] = df_test['Torque [Nm]'] * df_test['Tool wear [min]']\n",
    "\n",
    "x_train = df_train.copy()\n",
    "x_train.drop('id', axis=1, inplace=True)\n",
    "x_train.drop('Product ID', axis=1, inplace=True)\n",
    "x_train.drop('Machine failure', axis=1, inplace=True)\n",
    "y_train = df_train[\"Machine failure\"]\n",
    "\n",
    "x_test = df_test.copy()\n",
    "x_test.drop('id', axis=1, inplace=True)\n",
    "x_test.drop('Product ID', axis=1, inplace=True)\n",
    "\n",
    "x_train = np.array(x_train)\n",
    "y_train = np.array(y_train, dtype=np.float32)\n",
    "x_test = np.array(x_test)\n",
    "\n",
    "lm_column = 0\n",
    "\n",
    "mapping = {'L': 0.0, 'M': 0.5, 'H': 1.0}\n",
    "x_train[:, lm_column] = np.where(x_train[:, lm_column] == 'L', 0.0, np.where(x_train[:, lm_column] == 'M', 0.5, 1.0))\n",
    "x_test[:, lm_column] = np.where(x_test[:, lm_column] == 'L', 0.0, np.where(x_test[:, lm_column] == 'M', 0.5, 1.0))\n",
    "\n",
    "# Standardization\n",
    "scaler = StandardScaler()\n",
    "x_train = scaler.fit_transform(x_train)\n",
    "x_test = scaler.transform(x_test)\n",
    "\n",
    "x_train, x_cv, y_train, y_cv = train_test_split(x_train, y_train, test_size=0.2, random_state=42)\n"
   ],
   "outputs": [],
   "metadata": {}
  },
  {
   "cell_type": "code",
   "execution_count": 10,
   "source": [
    "from sklearn.naive_bayes import GaussianNB\n",
    "from sklearn.metrics import accuracy_score, f1_score, recall_score\n",
    "\n",
    "# Initialize the Gaussian Naive Bayes model\n",
    "gnb = GaussianNB()\n",
    "\n",
    "# Train the model on the training data\n",
    "gnb.fit(x_train, y_train)\n",
    "\n",
    "# Predict on the cross-validation data\n",
    "y_cv_pred = gnb.predict(x_cv)\n",
    "\n",
    "# Calculate metrics for cross-validation predictions\n",
    "accuracy = accuracy_score(y_cv, y_cv_pred)\n",
    "f1 = f1_score(y_cv, y_cv_pred)\n",
    "recall = recall_score(y_cv, y_cv_pred)\n",
    "\n",
    "# Print cross-validation metrics\n",
    "print(\"Cross-validation performance:\")\n",
    "print(\"Accuracy:\", accuracy)\n",
    "print(\"F1 score:\", f1)\n",
    "print(\"Recall:\", recall)\n",
    "\n",
    "# Predict on the test data\n",
    "y_test_pred = gnb.predict(x_test)\n",
    "\n",
    "# Print predictions for the test data\n",
    "print(\"Test data predictions:\")\n",
    "print(y_test_pred)\n"
   ],
   "outputs": [
    {
     "output_type": "stream",
     "name": "stdout",
     "text": [
      "Cross-validation performance:\n",
      "Accuracy: 0.9961518727552591\n",
      "F1 score: 0.865211810012837\n",
      "Recall: 0.769406392694064\n",
      "Test data predictions:\n",
      "[0. 0. 0. ... 0. 0. 0.]\n"
     ]
    }
   ],
   "metadata": {}
  },
  {
   "cell_type": "code",
   "execution_count": 12,
   "source": [
    "indices = np.array(df_test[\"id\"], dtype=int).reshape(-1, 1)\n",
    "\n",
    "y_test_pred = y_test_pred.reshape(-1, 1)  \n",
    "\n",
    "submission = np.hstack((indices, y_test_pred))\n",
    "\n",
    "submission_df = pd.DataFrame(submission, columns=['id', 'Machine failure'])\n",
    "submission_df['id'] = submission_df['id'].astype(int)  # Convert \"id\" column to integer\n",
    "submission_df.to_csv(\"submissions/gnb.csv\", index=False)"
   ],
   "outputs": [],
   "metadata": {}
  },
  {
   "cell_type": "code",
   "execution_count": 8,
   "source": [
    "from sklearn.ensemble import RandomForestClassifier\n",
    "\n",
    "# train model\n",
    "rfc = RandomForestClassifier(n_estimators=10).fit(x_train, y_train)\n",
    "\n",
    "# predict on test set\n",
    "rfc_pred = rfc.predict(x_cv)\n",
    "\n",
    "from sklearn.metrics import accuracy_score, f1_score, recall_score\n",
    "\n",
    "print(\"Random Forest Classifier\", \"\\n\\tAccuracy:\", accuracy_score(y_cv, rfc_pred), \"\\n\\tF1:\", f1_score(y_cv, rfc_pred), \"\\n\\tRecall:\", recall_score(y_cv, rfc_pred))"
   ],
   "outputs": [
    {
     "output_type": "stream",
     "name": "stdout",
     "text": [
      "Random Forest Classifier \n",
      "\tAccuracy: 0.9960052774316499 \n",
      "\tF1: 0.8604353393085787 \n",
      "\tRecall: 0.7671232876712328\n"
     ]
    }
   ],
   "metadata": {}
  },
  {
   "cell_type": "code",
   "execution_count": 15,
   "source": [
    "import tensorflow as tf\n",
    "from tensorflow import keras\n",
    "\n",
    "num_features = x_train.shape[1] \n",
    "\n",
    "model = keras.Sequential([\n",
    "    keras.layers.Dense(11, activation='relu', input_shape=(num_features,)),\n",
    "    keras.layers.Dense(1, activation='sigmoid')\n",
    "])\n",
    "\n",
    "model.compile(optimizer='adam', loss='binary_crossentropy', metrics=['accuracy'])\n",
    "model.fit(x_train, y_train, epochs=5, batch_size=32)"
   ],
   "outputs": [
    {
     "output_type": "stream",
     "name": "stdout",
     "text": [
      "Epoch 1/5\n",
      "3411/3411 [==============================] - 5s 1ms/step - loss: 0.0786 - accuracy: 0.9824\n",
      "Epoch 2/5\n",
      "3411/3411 [==============================] - 4s 1ms/step - loss: 0.0251 - accuracy: 0.9962\n",
      "Epoch 3/5\n",
      "3411/3411 [==============================] - 4s 1ms/step - loss: 0.0235 - accuracy: 0.9962\n",
      "Epoch 4/5\n",
      "3411/3411 [==============================] - 4s 1ms/step - loss: 0.0230 - accuracy: 0.9962\n",
      "Epoch 5/5\n",
      "3411/3411 [==============================] - 4s 1ms/step - loss: 0.0227 - accuracy: 0.9962\n"
     ]
    },
    {
     "output_type": "execute_result",
     "data": {
      "text/plain": [
       "<keras.callbacks.History at 0x7f327c556640>"
      ]
     },
     "metadata": {},
     "execution_count": 15
    }
   ],
   "metadata": {}
  },
  {
   "cell_type": "code",
   "execution_count": 17,
   "source": [
    "# Evaluate the model on the cross-validation set\n",
    "cv_loss, cv_accuracy = model.evaluate(x_cv, y_cv)\n",
    "\n",
    "# Predict probabilities for the cross-validation set\n",
    "cv_predictions = model.predict(x_cv)\n",
    "\n",
    "# Convert probabilities to binary predictions\n",
    "cv_predictions_binary = np.round(cv_predictions)\n",
    "\n",
    "# Calculate F1 score and recall for the cross-validation set\n",
    "cv_f1_score = f1_score(y_cv, cv_predictions_binary)\n",
    "cv_recall = recall_score(y_cv, cv_predictions_binary)\n",
    "\n",
    "# Print the evaluation metrics\n",
    "print(\"CV Loss:\", cv_loss)\n",
    "print(\"CV Accuracy:\", cv_accuracy)\n",
    "print(\"CV F1 Score:\", cv_f1_score)\n",
    "print(\"CV Recall:\", cv_recall)\n"
   ],
   "outputs": [
    {
     "output_type": "stream",
     "name": "stdout",
     "text": [
      "853/853 [==============================] - 1s 1ms/step - loss: 0.0229 - accuracy: 0.9960\n",
      "853/853 [==============================] - 1s 878us/step\n",
      "CV Loss: 0.022912541404366493\n",
      "CV Accuracy: 0.9960419535636902\n",
      "CV F1 Score: 0.8604651162790699\n",
      "CV Recall: 0.7602739726027398\n"
     ]
    }
   ],
   "metadata": {}
  }
 ],
 "metadata": {
  "orig_nbformat": 4,
  "language_info": {
   "name": "python",
   "version": "3.8.10",
   "mimetype": "text/x-python",
   "codemirror_mode": {
    "name": "ipython",
    "version": 3
   },
   "pygments_lexer": "ipython3",
   "nbconvert_exporter": "python",
   "file_extension": ".py"
  },
  "kernelspec": {
   "name": "python3",
   "display_name": "Python 3.8.10 64-bit"
  },
  "interpreter": {
   "hash": "916dbcbb3f70747c44a77c7bcd40155683ae19c65e1c03b4aa3499c5328201f1"
  }
 },
 "nbformat": 4,
 "nbformat_minor": 2
}