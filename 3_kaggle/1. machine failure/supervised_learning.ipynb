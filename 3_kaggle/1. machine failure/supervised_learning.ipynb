{
 "cells": [
  {
   "cell_type": "code",
   "execution_count": 1,
   "source": [
    "import numpy as np \n",
    "import pandas as pd \n",
    "\n",
    "df_train = pd.read_csv('data/train.csv')\n",
    "df_test = pd.read_csv('data/test.csv')\n",
    "\n",
    "print(df_train.columns)\n",
    "print(\"shape: \", df_train.shape)"
   ],
   "outputs": [
    {
     "output_type": "stream",
     "name": "stdout",
     "text": [
      "Index(['id', 'Product ID', 'Type', 'Air temperature [K]',\n",
      "       'Process temperature [K]', 'Rotational speed [rpm]', 'Torque [Nm]',\n",
      "       'Tool wear [min]', 'Machine failure', 'TWF', 'HDF', 'PWF', 'OSF',\n",
      "       'RNF'],\n",
      "      dtype='object')\n",
      "shape:  (136429, 14)\n"
     ]
    }
   ],
   "metadata": {}
  },
  {
   "cell_type": "markdown",
   "source": [
    "# Analysing the dataset"
   ],
   "metadata": {},
   "attachments": {}
  },
  {
   "cell_type": "code",
   "execution_count": 2,
   "source": [
    "print(\"non-zero:\", np.count_nonzero(df_train[\"TWF\"]), \"\\nunique elements:\", df_train[\"TWF\"].unique())\n",
    "print(\"non-zero:\", np.count_nonzero(df_train[\"HDF\"]), \"\\nunique elements:\", df_train[\"HDF\"].unique())\n",
    "print(\"non-zero:\", np.count_nonzero(df_train[\"PWF\"]), \"\\nunique elements:\", df_train[\"PWF\"].unique())\n",
    "print(\"non-zero:\", np.count_nonzero(df_train[\"OSF\"]), \"\\nunique elements:\", df_train[\"OSF\"].unique())\n",
    "print(\"non-zero:\", np.count_nonzero(df_train[\"RNF\"]), \"\\nunique elements:\", df_train[\"RNF\"].unique())"
   ],
   "outputs": [
    {
     "output_type": "stream",
     "name": "stdout",
     "text": [
      "non-zero: 212 \n",
      "unique elements: [0 1]\n",
      "non-zero: 704 \n",
      "unique elements: [0 1]\n",
      "non-zero: 327 \n",
      "unique elements: [0 1]\n",
      "non-zero: 540 \n",
      "unique elements: [0 1]\n",
      "non-zero: 308 \n",
      "unique elements: [0 1]\n"
     ]
    }
   ],
   "metadata": {}
  },
  {
   "cell_type": "code",
   "execution_count": 3,
   "source": [
    "import matplotlib.pyplot as plt \n",
    "\n",
    "fig, axes = plt.subplots(nrows=2, ncols=3, figsize=(10,6))\n",
    "\n",
    "axes[0, 0].hist(df_train[\"Air temperature [K]\"], bins=50)\n",
    "axes[0, 1].hist(df_train[\"Process temperature [K]\"], bins=50)\n",
    "axes[0, 2].hist(df_train[\"Rotational speed [rpm]\"], bins=50)\n",
    "axes[1, 0].hist(df_train[\"Torque [Nm]\"], bins=50)\n",
    "axes[1, 1].hist(df_train[\"Tool wear [min]\"], bins=50)\n",
    "\n",
    "axes[0, 0].set_title(\"Air Temperature [K]\")\n",
    "axes[0, 1].set_title(\"Process temperature [K]\")\n",
    "axes[0, 2].set_title(\"Rotational speed [rpm]\")\n",
    "axes[1, 0].set_title(\"Torque [Nm]\")\n",
    "axes[1, 1].set_title(\"Tool wear [min]\")\n",
    "\n",
    "plt.tight_layout()\n",
    "plt.show()"
   ],
   "outputs": [
    {
     "output_type": "error",
     "ename": "ModuleNotFoundError",
     "evalue": "No module named 'matplotlib'",
     "traceback": [
      "\u001b[0;31m---------------------------------------------------------------------------\u001b[0m",
      "\u001b[0;31mModuleNotFoundError\u001b[0m                       Traceback (most recent call last)",
      "Cell \u001b[0;32mIn[3], line 1\u001b[0m\n\u001b[0;32m----> 1\u001b[0m \u001b[38;5;28;01mimport\u001b[39;00m \u001b[38;5;21;01mmatplotlib\u001b[39;00m\u001b[38;5;21;01m.\u001b[39;00m\u001b[38;5;21;01mpyplot\u001b[39;00m \u001b[38;5;28;01mas\u001b[39;00m \u001b[38;5;21;01mplt\u001b[39;00m \n\u001b[1;32m      3\u001b[0m fig, axes \u001b[38;5;241m=\u001b[39m plt\u001b[38;5;241m.\u001b[39msubplots(nrows\u001b[38;5;241m=\u001b[39m\u001b[38;5;241m2\u001b[39m, ncols\u001b[38;5;241m=\u001b[39m\u001b[38;5;241m3\u001b[39m, figsize\u001b[38;5;241m=\u001b[39m(\u001b[38;5;241m10\u001b[39m,\u001b[38;5;241m6\u001b[39m))\n\u001b[1;32m      5\u001b[0m axes[\u001b[38;5;241m0\u001b[39m, \u001b[38;5;241m0\u001b[39m]\u001b[38;5;241m.\u001b[39mhist(df_train[\u001b[38;5;124m\"\u001b[39m\u001b[38;5;124mAir temperature [K]\u001b[39m\u001b[38;5;124m\"\u001b[39m], bins\u001b[38;5;241m=\u001b[39m\u001b[38;5;241m50\u001b[39m)\n",
      "\u001b[0;31mModuleNotFoundError\u001b[0m: No module named 'matplotlib'"
     ]
    }
   ],
   "metadata": {}
  },
  {
   "cell_type": "code",
   "execution_count": 8,
   "source": [
    "from sklearn.preprocessing import StandardScaler\n",
    "\n",
    "x_train = df_train.copy()\n",
    "x_train.drop('id', axis=1, inplace=True)\n",
    "x_train.drop('Product ID', axis=1, inplace=True)  # deal with this later\n",
    "x_train.drop('Machine failure', axis=1, inplace=True)\n",
    "y_train = df_train[\"Machine failure\"]\n",
    "\n",
    "x_test = df_test.copy()\n",
    "x_test.drop('id', axis=1, inplace=True)\n",
    "x_test.drop('Product ID', axis=1, inplace=True)  # deal with this later\n",
    "\n",
    "# Standardization\n",
    "columns_to_standardize = ['Air temperature [K]',\n",
    "       'Process temperature [K]', 'Rotational speed [rpm]', 'Torque [Nm]',\n",
    "       'Tool wear [min]']\n",
    "\n",
    "scaler = StandardScaler()\n",
    "\n",
    "x_train[columns_to_standardize] = scaler.fit_transform(x_train[columns_to_standardize])\n",
    "x_test[columns_to_standardize] = scaler.fit_transform(x_test[columns_to_standardize])\n",
    "\n",
    "x_train = np.array(x_train)\n",
    "y_train = np.array(y_train, dtype=np.float32)\n",
    "x_test = np.array(x_test)\n",
    "\n",
    "lm_column = 0\n",
    "\n",
    "mapping = {'L': 0.0, 'M': 0.5, 'H': 1.0}\n",
    "x_train[:, lm_column] = np.where(x_train[:, lm_column] == 'L', 0.0, np.where(x_train[:, lm_column] == 'M', 0.5, 1.0))\n",
    "x_test[:, lm_column] = np.where(x_test[:, lm_column] == 'L', 0.0, np.where(x_test[:, lm_column] == 'M', 0.5, 1.0))\n",
    "\n",
    "x_train = x_train.astype(np.float32)\n",
    "x_test = x_test.astype(np.float32)\n",
    "\n",
    "print(x_train[:5, :])"
   ],
   "outputs": [
    {
     "output_type": "stream",
     "name": "stdout",
     "text": [
      "[[ 0.          0.3958803  -0.24623038  0.54541594 -0.49971116  0.55641687\n",
      "   0.          0.          0.          0.          0.        ]\n",
      " [ 0.5         1.4698555   1.5586048   1.7203082  -1.3230277   1.4944327\n",
      "   0.          0.          0.          0.          0.        ]\n",
      " [ 0.         -0.30220363 -1.0403578   2.051873   -1.6288309  -1.2414467\n",
      "   0.          0.          0.          0.          0.        ]\n",
      " [ 0.          0.61067533  0.6922839   0.0264451   0.46474534  1.4475319\n",
      "   0.          0.          0.          0.          0.        ]\n",
      " [ 0.5        -1.0002875  -0.67939085  0.8697727  -0.5820428  -1.1007444\n",
      "   0.          0.          0.          0.          0.        ]]\n"
     ]
    }
   ],
   "metadata": {}
  },
  {
   "cell_type": "code",
   "execution_count": null,
   "source": [
    "print(x_train.shape)"
   ],
   "outputs": [],
   "metadata": {}
  },
  {
   "cell_type": "code",
   "execution_count": 9,
   "source": [
    "import tensorflow as tf\n",
    "from tensorflow import keras\n",
    "\n",
    "num_features = x_train.shape[1] \n",
    "\n",
    "model = keras.Sequential([\n",
    "    keras.layers.Dense(11, activation='relu', input_shape=(num_features,)),\n",
    "    keras.layers.Dense(1, activation='sigmoid')\n",
    "])\n",
    "\n",
    "model.compile(optimizer='adam', loss='binary_crossentropy', metrics=['accuracy'])\n",
    "model.fit(x_train, y_train, epochs=5, batch_size=32)\n"
   ],
   "outputs": [
    {
     "output_type": "stream",
     "name": "stderr",
     "text": [
      "2023-06-26 10:24:38.480907: I tensorflow/tsl/cuda/cudart_stub.cc:28] Could not find cuda drivers on your machine, GPU will not be used.\n",
      "2023-06-26 10:24:38.526154: I tensorflow/tsl/cuda/cudart_stub.cc:28] Could not find cuda drivers on your machine, GPU will not be used.\n",
      "2023-06-26 10:24:38.527059: I tensorflow/core/platform/cpu_feature_guard.cc:182] This TensorFlow binary is optimized to use available CPU instructions in performance-critical operations.\n",
      "To enable the following instructions: AVX2 FMA, in other operations, rebuild TensorFlow with the appropriate compiler flags.\n",
      "2023-06-26 10:24:39.815962: W tensorflow/compiler/tf2tensorrt/utils/py_utils.cc:38] TF-TRT Warning: Could not find TensorRT\n"
     ]
    },
    {
     "output_type": "stream",
     "name": "stdout",
     "text": [
      "Epoch 1/5\n"
     ]
    },
    {
     "output_type": "stream",
     "name": "stderr",
     "text": [
      "2023-06-26 10:24:44.121817: E tensorflow/compiler/xla/stream_executor/cuda/cuda_driver.cc:266] failed call to cuInit: CUDA_ERROR_NO_DEVICE: no CUDA-capable device is detected\n"
     ]
    },
    {
     "output_type": "stream",
     "name": "stdout",
     "text": [
      "4264/4264 [==============================] - 6s 1ms/step - loss: 0.0698 - accuracy: 0.9842\n",
      "Epoch 2/5\n",
      "4264/4264 [==============================] - 5s 1ms/step - loss: 0.0233 - accuracy: 0.9959\n",
      "Epoch 3/5\n",
      "4264/4264 [==============================] - 5s 1ms/step - loss: 0.0222 - accuracy: 0.9962\n",
      "Epoch 4/5\n",
      "4264/4264 [==============================] - 5s 1ms/step - loss: 0.0220 - accuracy: 0.9962\n",
      "Epoch 5/5\n",
      "4264/4264 [==============================] - 5s 1ms/step - loss: 0.0219 - accuracy: 0.9962\n"
     ]
    },
    {
     "output_type": "execute_result",
     "data": {
      "text/plain": [
       "<keras.callbacks.History at 0x7f13405a9a90>"
      ]
     },
     "metadata": {},
     "execution_count": 9
    }
   ],
   "metadata": {}
  },
  {
   "cell_type": "code",
   "execution_count": 10,
   "source": [
    "predictions = model.predict(x_test)"
   ],
   "outputs": [
    {
     "output_type": "stream",
     "name": "stdout",
     "text": [
      "2843/2843 [==============================] - 3s 909us/step\n"
     ]
    }
   ],
   "metadata": {}
  },
  {
   "cell_type": "code",
   "execution_count": 11,
   "source": [
    "plt.hist(predictions, bins=100)\n",
    "plt.show()"
   ],
   "outputs": [
    {
     "output_type": "error",
     "ename": "NameError",
     "evalue": "name 'plt' is not defined",
     "traceback": [
      "\u001b[0;31m---------------------------------------------------------------------------\u001b[0m",
      "\u001b[0;31mNameError\u001b[0m                                 Traceback (most recent call last)",
      "Cell \u001b[0;32mIn[11], line 1\u001b[0m\n\u001b[0;32m----> 1\u001b[0m \u001b[43mplt\u001b[49m\u001b[38;5;241m.\u001b[39mhist(predictions, bins\u001b[38;5;241m=\u001b[39m\u001b[38;5;241m100\u001b[39m)\n\u001b[1;32m      2\u001b[0m plt\u001b[38;5;241m.\u001b[39mshow()\n",
      "\u001b[0;31mNameError\u001b[0m: name 'plt' is not defined"
     ]
    }
   ],
   "metadata": {}
  },
  {
   "cell_type": "code",
   "execution_count": 12,
   "source": [
    "print(\"y_train\")\n",
    "print(np.count_nonzero(y_train), \"of\", y_train.shape[0], \"===\", np.count_nonzero(y_train) / y_train.shape[0])\n",
    "\n",
    "print(\"predictions\")\n",
    "print(np.count_nonzero(predictions > 0.5), \"of\", predictions.shape[0], \"===\", np.count_nonzero(predictions > 0.5) / predictions.shape[0])\n",
    "\n",
    "predictions"
   ],
   "outputs": [
    {
     "output_type": "stream",
     "name": "stdout",
     "text": [
      "y_train\n",
      "2148 of 136429 === 0.01574445315878589\n",
      "predictions\n",
      "1112 of 90954 === 0.012225960375574467\n"
     ]
    },
    {
     "output_type": "execute_result",
     "data": {
      "text/plain": [
       "array([[0.00093165],\n",
       "       [0.00106039],\n",
       "       [0.0010786 ],\n",
       "       ...,\n",
       "       [0.00334553],\n",
       "       [0.00095841],\n",
       "       [0.00044161]], dtype=float32)"
      ]
     },
     "metadata": {},
     "execution_count": 12
    }
   ],
   "metadata": {}
  },
  {
   "cell_type": "code",
   "execution_count": 13,
   "source": [
    "indices = np.array(df_test[\"id\"], dtype=int).reshape(-1, 1)\n",
    "\n",
    "submission = np.hstack((indices, predictions))\n",
    "\n",
    "submission_df = pd.DataFrame(submission, columns=['id', 'Machine failure'])\n",
    "submission_df['id'] = submission_df['id'].astype(int)  # Convert \"id\" column to integer\n",
    "submission_df.to_csv(\"submissions/supervised_learning_late.csv\", index=False)"
   ],
   "outputs": [],
   "metadata": {}
  },
  {
   "cell_type": "code",
   "execution_count": null,
   "source": [
    "indices = np.array(df_test[\"id\"], dtype=int).reshape(-1, 1)\n",
    "predictions = np.where(predictions < 10, 0, 1)\n",
    "submission = np.hstack((indices, predictions))\n",
    "\n",
    "submission_df = pd.DataFrame(submission, columns=['id', 'Machine failure'])\n",
    "submission_df['id'] = submission_df['id'].astype(int)  # Convert \"id\" column to integer\n",
    "submission_df.to_csv(\"submissions/troll.csv\", index=False)"
   ],
   "outputs": [],
   "metadata": {}
  }
 ],
 "metadata": {
  "kernelspec": {
   "name": "python3",
   "display_name": "Python 3.8.10 64-bit"
  },
  "language_info": {
   "codemirror_mode": {
    "name": "ipython",
    "version": 3
   },
   "file_extension": ".py",
   "mimetype": "text/x-python",
   "name": "python",
   "nbconvert_exporter": "python",
   "pygments_lexer": "ipython3",
   "version": "3.8.10"
  },
  "orig_nbformat": 4,
  "interpreter": {
   "hash": "916dbcbb3f70747c44a77c7bcd40155683ae19c65e1c03b4aa3499c5328201f1"
  }
 },
 "nbformat": 4,
 "nbformat_minor": 2
}