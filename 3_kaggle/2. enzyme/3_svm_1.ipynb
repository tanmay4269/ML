{
 "cells": [
  {
   "cell_type": "code",
   "execution_count": 1,
   "metadata": {},
   "outputs": [],
   "source": [
    "import pandas as pd \n",
    "import numpy as np \n",
    "\n",
    "df_train = pd.read_csv('clean_data/train.csv')\n",
    "df_test = pd.read_csv('clean_data/test.csv')\n",
    "\n",
    "target_cols = ['EC1', 'EC2']\n",
    "num_cols = ['BertzCT', 'Chi1', 'Chi1n', 'Chi1v', 'Chi2n', 'Chi2v', 'Chi3v',\n",
    "            'Chi4n', 'EState_VSA1', 'EState_VSA2', 'ExactMolWt', 'FpDensityMorgan1',\n",
    "            'FpDensityMorgan2', 'FpDensityMorgan3', 'HallKierAlpha',\n",
    "            'HeavyAtomMolWt', 'Kappa3', 'MaxAbsEStateIndex', 'MinEStateIndex',\n",
    "            'NumHeteroatoms', 'PEOE_VSA10', 'PEOE_VSA14', 'PEOE_VSA6', 'PEOE_VSA7',\n",
    "            'PEOE_VSA8', 'SMR_VSA10', 'SMR_VSA5', 'SlogP_VSA3', 'VSA_EState9',\n",
    "            'fr_COO', 'fr_COO2']\n",
    "binary_cols = ['EC3', 'EC4', 'EC5', 'EC6']\n",
    "\n",
    "x_train = df_train[num_cols].to_numpy()\n",
    "y_train = df_train[target_cols].to_numpy()\n",
    "\n",
    "x_test = df_test[num_cols].to_numpy()"
   ]
  },
  {
   "cell_type": "code",
   "execution_count": 2,
   "metadata": {},
   "outputs": [],
   "source": [
    "from sklearn.model_selection import train_test_split\n",
    "\n",
    "x_train, x_cv, y_train, y_cv = train_test_split(x_train, y_train, test_size=0.2, random_state=42)"
   ]
  },
  {
   "cell_type": "code",
   "execution_count": 3,
   "metadata": {},
   "outputs": [
    {
     "name": "stdout",
     "output_type": "stream",
     "text": [
      "AUC-ROC Train (Class 0): 0.4505217179218414\n",
      "AUC-ROC Train (Class 1): 0.5384809597165608\n",
      "AUC-ROC CV (Class 0): 0.46710355767331624\n",
      "AUC-ROC CV (Class 1): 0.5473760269953052\n",
      "Average AUC-ROC Train: 0.4945013388192011\n",
      "Average AUC-ROC CV: 0.5072397923343107\n"
     ]
    }
   ],
   "source": [
    "from sklearn.svm import SVC\n",
    "from sklearn.metrics import roc_auc_score\n",
    "\n",
    "# Train the SVM model\n",
    "svm = SVC(kernel='rbf', probability=True)  # You can choose the kernel you prefer\n",
    "svm.fit(x_train, y_train[:, 0])  # Train for class 0\n",
    "\n",
    "# Predict probabilities for the training and cross-validation sets\n",
    "y_train_prob_0 = svm.predict_proba(x_train)\n",
    "y_cv_prob_0 = svm.predict_proba(x_cv)\n",
    "\n",
    "# Train for class 1\n",
    "svm.fit(x_train, y_train[:, 1])\n",
    "\n",
    "# Predict probabilities for the training and cross-validation sets\n",
    "y_train_prob_1 = svm.predict_proba(x_train)\n",
    "y_cv_prob_1 = svm.predict_proba(x_cv)\n",
    "\n",
    "# Calculate AUC-ROC scores for each class\n",
    "auc_train_0 = roc_auc_score(y_train[:, 0], y_train_prob_0[:, 1])\n",
    "auc_train_1 = roc_auc_score(y_train[:, 1], y_train_prob_1[:, 1])\n",
    "auc_cv_0 = roc_auc_score(y_cv[:, 0], y_cv_prob_0[:, 1])\n",
    "auc_cv_1 = roc_auc_score(y_cv[:, 1], y_cv_prob_1[:, 1])\n",
    "\n",
    "# Calculate the average AUC-ROC score\n",
    "avg_auc_train = (auc_train_0 + auc_train_1) / 2\n",
    "avg_auc_cv = (auc_cv_0 + auc_cv_1) / 2\n",
    "\n",
    "# Print the AUC-ROC scores\n",
    "print(\"AUC-ROC Train (Class 0):\", auc_train_0)\n",
    "print(\"AUC-ROC Train (Class 1):\", auc_train_1)\n",
    "print(\"AUC-ROC CV (Class 0):\", auc_cv_0)\n",
    "print(\"AUC-ROC CV (Class 1):\", auc_cv_1)\n",
    "print(\"Average AUC-ROC Train:\", avg_auc_train)\n",
    "print(\"Average AUC-ROC CV:\", avg_auc_cv)\n"
   ]
  },
  {
   "cell_type": "code",
   "execution_count": 4,
   "metadata": {},
   "outputs": [
    {
     "ename": "NameError",
     "evalue": "name 'y_pred_1' is not defined",
     "output_type": "error",
     "traceback": [
      "\u001b[1;31m---------------------------------------------------------------------------\u001b[0m",
      "\u001b[1;31mNameError\u001b[0m                                 Traceback (most recent call last)",
      "Cell \u001b[1;32mIn[4], line 7\u001b[0m\n\u001b[0;32m      4\u001b[0m ids \u001b[39m=\u001b[39m df_test[\u001b[39m'\u001b[39m\u001b[39mid\u001b[39m\u001b[39m'\u001b[39m]\n\u001b[0;32m      6\u001b[0m \u001b[39m# creating submission file\u001b[39;00m\n\u001b[1;32m----> 7\u001b[0m df_y_pred_1 \u001b[39m=\u001b[39m pd\u001b[39m.\u001b[39mDataFrame({\u001b[39m'\u001b[39m\u001b[39mEC1\u001b[39m\u001b[39m'\u001b[39m: y_pred_1})\n\u001b[0;32m      9\u001b[0m df_y_pred_2 \u001b[39m=\u001b[39m pd\u001b[39m.\u001b[39mDataFrame({\u001b[39m'\u001b[39m\u001b[39mEC2\u001b[39m\u001b[39m'\u001b[39m: y_pred_2})\n\u001b[0;32m     11\u001b[0m df_ids \u001b[39m=\u001b[39m pd\u001b[39m.\u001b[39mDataFrame({\u001b[39m'\u001b[39m\u001b[39mid\u001b[39m\u001b[39m'\u001b[39m: ids})\n",
      "\u001b[1;31mNameError\u001b[0m: name 'y_pred_1' is not defined"
     ]
    }
   ],
   "source": [
    "# y_pred_1 = \n",
    "# y_pred_2 = \n",
    "\n",
    "ids = df_test['id']\n",
    "\n",
    "# creating submission file\n",
    "df_y_pred_1 = pd.DataFrame({'EC1': y_pred_1})\n",
    "\n",
    "df_y_pred_2 = pd.DataFrame({'EC2': y_pred_2})\n",
    "\n",
    "df_ids = pd.DataFrame({'id': ids})\n",
    "\n",
    "result = pd.concat([df_ids, df_y_pred_1, df_y_pred_2], axis=1)\n",
    "\n",
    "result.to_csv('submissions/submission_3_svm_1.csv', index=False)"
   ]
  }
 ],
 "metadata": {
  "kernelspec": {
   "display_name": "Python 3",
   "language": "python",
   "name": "python3"
  },
  "language_info": {
   "codemirror_mode": {
    "name": "ipython",
    "version": 3
   },
   "file_extension": ".py",
   "mimetype": "text/x-python",
   "name": "python",
   "nbconvert_exporter": "python",
   "pygments_lexer": "ipython3",
   "version": "3.11.4"
  },
  "orig_nbformat": 4
 },
 "nbformat": 4,
 "nbformat_minor": 2
}
