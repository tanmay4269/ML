{
 "cells": [
  {
   "cell_type": "code",
   "execution_count": 1,
   "metadata": {},
   "outputs": [],
   "source": [
    "import pandas as pd \n",
    "import numpy as np \n",
    "\n",
    "df_train = pd.read_csv('clean_data/train.csv')\n",
    "df_test = pd.read_csv('clean_data/test.csv')\n",
    "\n",
    "target_cols = ['EC1', 'EC2']\n",
    "num_cols = ['BertzCT', 'Chi1', 'Chi1n', 'Chi1v', 'Chi2n', 'Chi2v', 'Chi3v',\n",
    "            'Chi4n', 'EState_VSA1', 'EState_VSA2', 'ExactMolWt', 'FpDensityMorgan1',\n",
    "            'FpDensityMorgan2', 'FpDensityMorgan3', 'HallKierAlpha',\n",
    "            'HeavyAtomMolWt', 'Kappa3', 'MaxAbsEStateIndex', 'MinEStateIndex',\n",
    "            'NumHeteroatoms', 'PEOE_VSA10', 'PEOE_VSA14', 'PEOE_VSA6', 'PEOE_VSA7',\n",
    "            'PEOE_VSA8', 'SMR_VSA10', 'SMR_VSA5', 'SlogP_VSA3', 'VSA_EState9',\n",
    "            'fr_COO', 'fr_COO2']\n",
    "binary_cols = ['EC3', 'EC4', 'EC5', 'EC6']\n",
    "\n",
    "x_train = df_train[num_cols].to_numpy()\n",
    "y_train = df_train[target_cols].to_numpy()\n",
    "\n",
    "x_test = df_test[num_cols].to_numpy()"
   ]
  },
  {
   "cell_type": "code",
   "execution_count": 2,
   "metadata": {},
   "outputs": [],
   "source": [
    "from sklearn.model_selection import train_test_split\n",
    "\n",
    "x_train, x_cv, y_train, y_cv = train_test_split(x_train, y_train, test_size=0.2, random_state=42)"
   ]
  },
  {
   "cell_type": "code",
   "execution_count": 3,
   "metadata": {},
   "outputs": [
    {
     "name": "stdout",
     "output_type": "stream",
     "text": [
      "Epoch 1/10\n",
      "371/371 [==============================] - 3s 4ms/step - loss: 0.5954 - auc: 0.6773 - val_loss: 0.5750 - val_auc: 0.7070\n",
      "Epoch 2/10\n",
      "371/371 [==============================] - 1s 2ms/step - loss: 0.5786 - auc: 0.7010 - val_loss: 0.5732 - val_auc: 0.7090\n",
      "Epoch 3/10\n",
      "371/371 [==============================] - 1s 3ms/step - loss: 0.5767 - auc: 0.7041 - val_loss: 0.5740 - val_auc: 0.7072\n",
      "Epoch 4/10\n",
      "371/371 [==============================] - 1s 2ms/step - loss: 0.5736 - auc: 0.7082 - val_loss: 0.5794 - val_auc: 0.6987\n",
      "Epoch 5/10\n",
      "371/371 [==============================] - 1s 2ms/step - loss: 0.5731 - auc: 0.7096 - val_loss: 0.5740 - val_auc: 0.7045\n",
      "Epoch 6/10\n",
      "371/371 [==============================] - 1s 3ms/step - loss: 0.5714 - auc: 0.7121 - val_loss: 0.5775 - val_auc: 0.6998\n",
      "Epoch 7/10\n",
      "371/371 [==============================] - 1s 3ms/step - loss: 0.5700 - auc: 0.7136 - val_loss: 0.5790 - val_auc: 0.6986\n",
      "Epoch 8/10\n",
      "371/371 [==============================] - 1s 3ms/step - loss: 0.5683 - auc: 0.7164 - val_loss: 0.5782 - val_auc: 0.6986\n",
      "Epoch 9/10\n",
      "371/371 [==============================] - 1s 3ms/step - loss: 0.5688 - auc: 0.7157 - val_loss: 0.5784 - val_auc: 0.6995\n",
      "Epoch 10/10\n",
      "371/371 [==============================] - 1s 3ms/step - loss: 0.5671 - auc: 0.7177 - val_loss: 0.5810 - val_auc: 0.6975\n",
      "\n",
      " ======================================================================================================================================================================================================== \n",
      "\n",
      "Epoch 1/10\n",
      "371/371 [==============================] - 2s 3ms/step - loss: 0.5136 - auc_1: 0.5446 - val_loss: 0.4875 - val_auc_1: 0.5742\n",
      "Epoch 2/10\n",
      "371/371 [==============================] - 1s 3ms/step - loss: 0.5018 - auc_1: 0.5724 - val_loss: 0.4869 - val_auc_1: 0.5737\n",
      "Epoch 3/10\n",
      "371/371 [==============================] - 1s 3ms/step - loss: 0.4992 - auc_1: 0.5832 - val_loss: 0.4828 - val_auc_1: 0.5796\n",
      "Epoch 4/10\n",
      "371/371 [==============================] - 1s 3ms/step - loss: 0.4966 - auc_1: 0.5944 - val_loss: 0.4853 - val_auc_1: 0.5892\n",
      "Epoch 5/10\n",
      "371/371 [==============================] - 1s 3ms/step - loss: 0.4962 - auc_1: 0.5960 - val_loss: 0.4847 - val_auc_1: 0.5773\n",
      "Epoch 6/10\n",
      "371/371 [==============================] - 1s 3ms/step - loss: 0.4955 - auc_1: 0.5997 - val_loss: 0.4843 - val_auc_1: 0.5724\n",
      "Epoch 7/10\n",
      "371/371 [==============================] - 1s 3ms/step - loss: 0.4940 - auc_1: 0.6049 - val_loss: 0.4827 - val_auc_1: 0.5805\n",
      "Epoch 8/10\n",
      "371/371 [==============================] - 1s 3ms/step - loss: 0.4931 - auc_1: 0.6082 - val_loss: 0.4873 - val_auc_1: 0.5744\n",
      "Epoch 9/10\n",
      "371/371 [==============================] - 1s 3ms/step - loss: 0.4918 - auc_1: 0.6138 - val_loss: 0.4835 - val_auc_1: 0.5823\n",
      "Epoch 10/10\n",
      "371/371 [==============================] - 1s 2ms/step - loss: 0.4899 - auc_1: 0.6198 - val_loss: 0.4836 - val_auc_1: 0.5890\n"
     ]
    },
    {
     "data": {
      "text/plain": [
       "<keras.callbacks.History at 0x297e6947ad0>"
      ]
     },
     "execution_count": 3,
     "metadata": {},
     "output_type": "execute_result"
    }
   ],
   "source": [
    "import tensorflow as tf\n",
    "from sklearn.metrics import roc_auc_score\n",
    "\n",
    "# Define the model architecture\n",
    "model_ec1 = tf.keras.Sequential([\n",
    "    tf.keras.layers.Dense(64, activation='relu', input_shape=(x_train.shape[1],)),\n",
    "    tf.keras.layers.Dense(32, activation='relu'),\n",
    "    tf.keras.layers.Dense(1, activation='sigmoid')\n",
    "])\n",
    "\n",
    "model_ec2 = tf.keras.Sequential([\n",
    "    tf.keras.layers.Dense(64, activation='relu', input_shape=(x_train.shape[1],)),\n",
    "    tf.keras.layers.Dense(32, activation='relu'),\n",
    "    tf.keras.layers.Dense(1, activation='sigmoid')\n",
    "])\n",
    "\n",
    "# Compile the model with AUC-ROC as the metric\n",
    "model_ec1.compile(optimizer='adam',\n",
    "              loss='binary_crossentropy',\n",
    "              metrics=[tf.keras.metrics.AUC(curve='ROC')])\n",
    "\n",
    "model_ec2.compile(optimizer='adam',\n",
    "              loss='binary_crossentropy',\n",
    "              metrics=[tf.keras.metrics.AUC(curve='ROC')])\n",
    "\n",
    "\n",
    "# Train the model\n",
    "model_ec1.fit(x_train, y_train[:, 0], epochs=10, batch_size=32, validation_data=(x_cv, y_cv[:, 0]))\n",
    "print('\\n', '='*150, '\\n')\n",
    "model_ec2.fit(x_train, y_train[:, 1], epochs=10, batch_size=32, validation_data=(x_cv, y_cv[:, 1]))\n"
   ]
  },
  {
   "cell_type": "code",
   "execution_count": 4,
   "metadata": {},
   "outputs": [
    {
     "name": "stdout",
     "output_type": "stream",
     "text": [
      "93/93 [==============================] - 0s 1ms/step\n",
      "93/93 [==============================] - 0s 1ms/step\n",
      "371/371 [==============================] - 0s 1ms/step\n",
      "371/371 [==============================] - 0s 1ms/step\n",
      "\n",
      " ========================= \n",
      "\n",
      "Train AUC-ROC score 1: 0.7278870604677388\n",
      "Train AUC-ROC score 2: 0.6335723646826583\n",
      "CV AUC-ROC score 1: 0.697597253769175\n",
      "CV AUC-ROC score 2: 0.5888200557511737\n",
      "Avg AUC-ROC score:  0.6432086547601743\n"
     ]
    }
   ],
   "source": [
    "# Predict probabilities on the test set\n",
    "cv_y_pred_prob_1 = model_ec1.predict(x_cv)\n",
    "cv_y_pred_prob_2 = model_ec2.predict(x_cv)\n",
    "\n",
    "train_y_pred_prob_1 = model_ec1.predict(x_train)\n",
    "train_y_pred_prob_2 = model_ec2.predict(x_train)\n",
    "\n",
    "# Calculate AUC-ROC score on the test set\n",
    "train_auc_roc_1 = roc_auc_score(y_train[:, 0], train_y_pred_prob_1)\n",
    "train_auc_roc_2 = roc_auc_score(y_train[:, 1], train_y_pred_prob_2)\n",
    "\n",
    "cv_auc_roc_1 = roc_auc_score(y_cv[:, 0], cv_y_pred_prob_1)\n",
    "cv_auc_roc_2 = roc_auc_score(y_cv[:, 1], cv_y_pred_prob_2)\n",
    "\n",
    "print('\\n', '='*150, '\\n')\n",
    "\n",
    "print(\"Train AUC-ROC score 1:\", train_auc_roc_1)\n",
    "print(\"Train AUC-ROC score 2:\", train_auc_roc_2)\n",
    "\n",
    "print(\"CV AUC-ROC score 1:\", cv_auc_roc_1)\n",
    "print(\"CV AUC-ROC score 2:\", cv_auc_roc_2)\n",
    "\n",
    "print(\"\\nAvg AUC-ROC score: \", (cv_auc_roc_1 + cv_auc_roc_2)/2)"
   ]
  },
  {
   "cell_type": "code",
   "execution_count": 5,
   "metadata": {},
   "outputs": [
    {
     "name": "stdout",
     "output_type": "stream",
     "text": [
      "310/310 [==============================] - 0s 1ms/step\n",
      "310/310 [==============================] - 0s 1ms/step\n"
     ]
    },
    {
     "ename": "ValueError",
     "evalue": "Per-column arrays must each be 1-dimensional",
     "output_type": "error",
     "traceback": [
      "\u001b[1;31m---------------------------------------------------------------------------\u001b[0m",
      "\u001b[1;31mValueError\u001b[0m                                Traceback (most recent call last)",
      "Cell \u001b[1;32mIn[5], line 6\u001b[0m\n\u001b[0;32m      3\u001b[0m ids \u001b[39m=\u001b[39m df_test[\u001b[39m'\u001b[39m\u001b[39mid\u001b[39m\u001b[39m'\u001b[39m]\n\u001b[0;32m      5\u001b[0m \u001b[39m# creating submission file\u001b[39;00m\n\u001b[1;32m----> 6\u001b[0m df_y_pred_1 \u001b[39m=\u001b[39m pd\u001b[39m.\u001b[39;49mDataFrame({\u001b[39m'\u001b[39;49m\u001b[39mEC1\u001b[39;49m\u001b[39m'\u001b[39;49m: y_pred_1})\n\u001b[0;32m      8\u001b[0m df_y_pred_2 \u001b[39m=\u001b[39m pd\u001b[39m.\u001b[39mDataFrame({\u001b[39m'\u001b[39m\u001b[39mEC2\u001b[39m\u001b[39m'\u001b[39m: y_pred_2})\n\u001b[0;32m     10\u001b[0m df_ids \u001b[39m=\u001b[39m pd\u001b[39m.\u001b[39mDataFrame({\u001b[39m'\u001b[39m\u001b[39mid\u001b[39m\u001b[39m'\u001b[39m: ids})\n",
      "File \u001b[1;32m~\\AppData\\Local\\Packages\\PythonSoftwareFoundation.Python.3.11_qbz5n2kfra8p0\\LocalCache\\local-packages\\Python311\\site-packages\\pandas\\core\\frame.py:709\u001b[0m, in \u001b[0;36mDataFrame.__init__\u001b[1;34m(self, data, index, columns, dtype, copy)\u001b[0m\n\u001b[0;32m    703\u001b[0m     mgr \u001b[39m=\u001b[39m \u001b[39mself\u001b[39m\u001b[39m.\u001b[39m_init_mgr(\n\u001b[0;32m    704\u001b[0m         data, axes\u001b[39m=\u001b[39m{\u001b[39m\"\u001b[39m\u001b[39mindex\u001b[39m\u001b[39m\"\u001b[39m: index, \u001b[39m\"\u001b[39m\u001b[39mcolumns\u001b[39m\u001b[39m\"\u001b[39m: columns}, dtype\u001b[39m=\u001b[39mdtype, copy\u001b[39m=\u001b[39mcopy\n\u001b[0;32m    705\u001b[0m     )\n\u001b[0;32m    707\u001b[0m \u001b[39melif\u001b[39;00m \u001b[39misinstance\u001b[39m(data, \u001b[39mdict\u001b[39m):\n\u001b[0;32m    708\u001b[0m     \u001b[39m# GH#38939 de facto copy defaults to False only in non-dict cases\u001b[39;00m\n\u001b[1;32m--> 709\u001b[0m     mgr \u001b[39m=\u001b[39m dict_to_mgr(data, index, columns, dtype\u001b[39m=\u001b[39;49mdtype, copy\u001b[39m=\u001b[39;49mcopy, typ\u001b[39m=\u001b[39;49mmanager)\n\u001b[0;32m    710\u001b[0m \u001b[39melif\u001b[39;00m \u001b[39misinstance\u001b[39m(data, ma\u001b[39m.\u001b[39mMaskedArray):\n\u001b[0;32m    711\u001b[0m     \u001b[39mfrom\u001b[39;00m \u001b[39mnumpy\u001b[39;00m\u001b[39m.\u001b[39;00m\u001b[39mma\u001b[39;00m \u001b[39mimport\u001b[39;00m mrecords\n",
      "File \u001b[1;32m~\\AppData\\Local\\Packages\\PythonSoftwareFoundation.Python.3.11_qbz5n2kfra8p0\\LocalCache\\local-packages\\Python311\\site-packages\\pandas\\core\\internals\\construction.py:481\u001b[0m, in \u001b[0;36mdict_to_mgr\u001b[1;34m(data, index, columns, dtype, typ, copy)\u001b[0m\n\u001b[0;32m    477\u001b[0m     \u001b[39melse\u001b[39;00m:\n\u001b[0;32m    478\u001b[0m         \u001b[39m# dtype check to exclude e.g. range objects, scalars\u001b[39;00m\n\u001b[0;32m    479\u001b[0m         arrays \u001b[39m=\u001b[39m [x\u001b[39m.\u001b[39mcopy() \u001b[39mif\u001b[39;00m \u001b[39mhasattr\u001b[39m(x, \u001b[39m\"\u001b[39m\u001b[39mdtype\u001b[39m\u001b[39m\"\u001b[39m) \u001b[39melse\u001b[39;00m x \u001b[39mfor\u001b[39;00m x \u001b[39min\u001b[39;00m arrays]\n\u001b[1;32m--> 481\u001b[0m \u001b[39mreturn\u001b[39;00m arrays_to_mgr(arrays, columns, index, dtype\u001b[39m=\u001b[39;49mdtype, typ\u001b[39m=\u001b[39;49mtyp, consolidate\u001b[39m=\u001b[39;49mcopy)\n",
      "File \u001b[1;32m~\\AppData\\Local\\Packages\\PythonSoftwareFoundation.Python.3.11_qbz5n2kfra8p0\\LocalCache\\local-packages\\Python311\\site-packages\\pandas\\core\\internals\\construction.py:115\u001b[0m, in \u001b[0;36marrays_to_mgr\u001b[1;34m(arrays, columns, index, dtype, verify_integrity, typ, consolidate)\u001b[0m\n\u001b[0;32m    112\u001b[0m \u001b[39mif\u001b[39;00m verify_integrity:\n\u001b[0;32m    113\u001b[0m     \u001b[39m# figure out the index, if necessary\u001b[39;00m\n\u001b[0;32m    114\u001b[0m     \u001b[39mif\u001b[39;00m index \u001b[39mis\u001b[39;00m \u001b[39mNone\u001b[39;00m:\n\u001b[1;32m--> 115\u001b[0m         index \u001b[39m=\u001b[39m _extract_index(arrays)\n\u001b[0;32m    116\u001b[0m     \u001b[39melse\u001b[39;00m:\n\u001b[0;32m    117\u001b[0m         index \u001b[39m=\u001b[39m ensure_index(index)\n",
      "File \u001b[1;32m~\\AppData\\Local\\Packages\\PythonSoftwareFoundation.Python.3.11_qbz5n2kfra8p0\\LocalCache\\local-packages\\Python311\\site-packages\\pandas\\core\\internals\\construction.py:642\u001b[0m, in \u001b[0;36m_extract_index\u001b[1;34m(data)\u001b[0m\n\u001b[0;32m    640\u001b[0m         raw_lengths\u001b[39m.\u001b[39mappend(\u001b[39mlen\u001b[39m(val))\n\u001b[0;32m    641\u001b[0m     \u001b[39melif\u001b[39;00m \u001b[39misinstance\u001b[39m(val, np\u001b[39m.\u001b[39mndarray) \u001b[39mand\u001b[39;00m val\u001b[39m.\u001b[39mndim \u001b[39m>\u001b[39m \u001b[39m1\u001b[39m:\n\u001b[1;32m--> 642\u001b[0m         \u001b[39mraise\u001b[39;00m \u001b[39mValueError\u001b[39;00m(\u001b[39m\"\u001b[39m\u001b[39mPer-column arrays must each be 1-dimensional\u001b[39m\u001b[39m\"\u001b[39m)\n\u001b[0;32m    644\u001b[0m \u001b[39mif\u001b[39;00m \u001b[39mnot\u001b[39;00m indexes \u001b[39mand\u001b[39;00m \u001b[39mnot\u001b[39;00m raw_lengths:\n\u001b[0;32m    645\u001b[0m     \u001b[39mraise\u001b[39;00m \u001b[39mValueError\u001b[39;00m(\u001b[39m\"\u001b[39m\u001b[39mIf using all scalar values, you must pass an index\u001b[39m\u001b[39m\"\u001b[39m)\n",
      "\u001b[1;31mValueError\u001b[0m: Per-column arrays must each be 1-dimensional"
     ]
    }
   ],
   "source": [
    "y_pred_1, y_pred_2 = model_ec1.predict(x_test), model_ec2.predict(x_test)\n",
    "\n",
    "ids = df_test['id']\n",
    "\n",
    "# creating submission file\n",
    "df_y_pred_1 = pd.DataFrame({'EC1': y_pred_1})\n",
    "\n",
    "df_y_pred_2 = pd.DataFrame({'EC2': y_pred_2})\n",
    "\n",
    "df_ids = pd.DataFrame({'id': ids})\n",
    "\n",
    "result = pd.concat([df_ids, df_y_pred_1, df_y_pred_2], axis=1)\n",
    "\n",
    "result.to_csv('submissions/submission_2_neural_net_2.csv', index=False)"
   ]
  }
 ],
 "metadata": {
  "kernelspec": {
   "display_name": "Python 3",
   "language": "python",
   "name": "python3"
  },
  "language_info": {
   "codemirror_mode": {
    "name": "ipython",
    "version": 3
   },
   "file_extension": ".py",
   "mimetype": "text/x-python",
   "name": "python",
   "nbconvert_exporter": "python",
   "pygments_lexer": "ipython3",
   "version": "3.11.4"
  },
  "orig_nbformat": 4
 },
 "nbformat": 4,
 "nbformat_minor": 2
}
