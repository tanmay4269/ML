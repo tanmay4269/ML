{
 "cells": [
  {
   "cell_type": "code",
   "execution_count": 1,
   "metadata": {},
   "outputs": [],
   "source": [
    "import pandas as pd \n",
    "import numpy as np \n",
    "\n",
    "df_train = pd.read_csv('clean_data/train.csv')\n",
    "df_test = pd.read_csv('clean_data/test.csv')\n",
    "\n",
    "target_cols = ['EC1', 'EC2']\n",
    "num_cols = ['BertzCT', 'Chi1', 'Chi1n', 'Chi1v', 'Chi2n', 'Chi2v', 'Chi3v',\n",
    "            'Chi4n', 'EState_VSA1', 'EState_VSA2', 'ExactMolWt', 'FpDensityMorgan1',\n",
    "            'FpDensityMorgan2', 'FpDensityMorgan3', 'HallKierAlpha',\n",
    "            'HeavyAtomMolWt', 'Kappa3', 'MaxAbsEStateIndex', 'MinEStateIndex',\n",
    "            'NumHeteroatoms', 'PEOE_VSA10', 'PEOE_VSA14', 'PEOE_VSA6', 'PEOE_VSA7',\n",
    "            'PEOE_VSA8', 'SMR_VSA10', 'SMR_VSA5', 'SlogP_VSA3', 'VSA_EState9',\n",
    "            'fr_COO', 'fr_COO2']\n",
    "binary_cols = ['EC3', 'EC4', 'EC5', 'EC6']\n",
    "\n",
    "x_train = df_train[num_cols].to_numpy()\n",
    "y_train = df_train[target_cols].to_numpy()\n",
    "\n",
    "x_test = df_test[num_cols].to_numpy()"
   ]
  },
  {
   "cell_type": "code",
   "execution_count": 2,
   "metadata": {},
   "outputs": [],
   "source": [
    "from sklearn.model_selection import train_test_split\n",
    "\n",
    "x_train, x_cv, y_train, y_cv = train_test_split(x_train, y_train, test_size=0.2, random_state=42)"
   ]
  },
  {
   "cell_type": "code",
   "execution_count": 5,
   "metadata": {},
   "outputs": [
    {
     "name": "stdout",
     "output_type": "stream",
     "text": [
      "Epoch 1/10\n",
      "371/371 [==============================] - 4s 7ms/step - loss: 0.9672 - accuracy: 0.7160 - auc_roc: 0.6803 - val_loss: 0.6664 - val_accuracy: 0.7197 - val_auc_roc: 0.7027\n",
      "Epoch 2/10\n",
      "371/371 [==============================] - 2s 6ms/step - loss: 0.6109 - accuracy: 0.7219 - auc_roc: 0.6897 - val_loss: 0.5781 - val_accuracy: 0.7224 - val_auc_roc: 0.7052\n",
      "Epoch 3/10\n",
      "371/371 [==============================] - 2s 6ms/step - loss: 0.5740 - accuracy: 0.7200 - auc_roc: 0.6915 - val_loss: 0.5681 - val_accuracy: 0.7150 - val_auc_roc: 0.7033\n",
      "Epoch 4/10\n",
      "371/371 [==============================] - 2s 6ms/step - loss: 0.5681 - accuracy: 0.7204 - auc_roc: 0.6923 - val_loss: 0.5633 - val_accuracy: 0.7207 - val_auc_roc: 0.7067\n",
      "Epoch 5/10\n",
      "371/371 [==============================] - 2s 6ms/step - loss: 0.5650 - accuracy: 0.7230 - auc_roc: 0.6942 - val_loss: 0.5630 - val_accuracy: 0.7220 - val_auc_roc: 0.7049\n",
      "Epoch 6/10\n",
      "371/371 [==============================] - 2s 6ms/step - loss: 0.5646 - accuracy: 0.7238 - auc_roc: 0.6948 - val_loss: 0.5644 - val_accuracy: 0.7207 - val_auc_roc: 0.6990\n",
      "Epoch 7/10\n",
      "371/371 [==============================] - 2s 6ms/step - loss: 0.5633 - accuracy: 0.7211 - auc_roc: 0.6917 - val_loss: 0.5608 - val_accuracy: 0.7173 - val_auc_roc: 0.7051\n",
      "Epoch 8/10\n",
      "371/371 [==============================] - 2s 6ms/step - loss: 0.5630 - accuracy: 0.7212 - auc_roc: 0.6910 - val_loss: 0.5624 - val_accuracy: 0.7183 - val_auc_roc: 0.7032\n",
      "Epoch 9/10\n",
      "371/371 [==============================] - 2s 6ms/step - loss: 0.5621 - accuracy: 0.7224 - auc_roc: 0.6935 - val_loss: 0.5622 - val_accuracy: 0.7183 - val_auc_roc: 0.6982\n",
      "Epoch 10/10\n",
      "371/371 [==============================] - 2s 6ms/step - loss: 0.5623 - accuracy: 0.7262 - auc_roc: 0.6926 - val_loss: 0.5597 - val_accuracy: 0.7220 - val_auc_roc: 0.7065\n"
     ]
    },
    {
     "data": {
      "text/plain": [
       "<keras.callbacks.History at 0x2b4c2f044d0>"
      ]
     },
     "execution_count": 5,
     "metadata": {},
     "output_type": "execute_result"
    }
   ],
   "source": [
    "import tensorflow as tf\n",
    "import numpy as np\n",
    "from sklearn.metrics import roc_auc_score\n",
    "\n",
    "# Define the custom metric function\n",
    "def auc_roc(y_true, y_pred):\n",
    "    auc_roc_values = tf.py_function(roc_auc_score, (y_true, y_pred[:, 1]), tf.float32)\n",
    "    return auc_roc_values\n",
    "\n",
    "# Define the model architecture\n",
    "model = tf.keras.Sequential([\n",
    "    tf.keras.layers.Dense(64, activation='relu', input_shape=(x_train.shape[1],),\n",
    "                          kernel_regularizer=tf.keras.regularizers.l2(0.01)),\n",
    "    tf.keras.layers.Dense(64, activation='relu', kernel_regularizer=tf.keras.regularizers.l2(0.01)),\n",
    "    tf.keras.layers.Dense(2, activation='softmax')\n",
    "])\n",
    "\n",
    "# Compile the model\n",
    "model.compile(optimizer='adam',\n",
    "              loss='sparse_categorical_crossentropy',\n",
    "              metrics=['accuracy', auc_roc])  # Add the custom metric\n",
    "\n",
    "# Train the model\n",
    "model.fit(x_train, y_train, validation_data=(x_cv, y_cv), epochs=10, batch_size=32)\n"
   ]
  },
  {
   "cell_type": "code",
   "execution_count": 6,
   "metadata": {},
   "outputs": [
    {
     "name": "stdout",
     "output_type": "stream",
     "text": [
      "371/371 [==============================] - 1s 2ms/step\n",
      "93/93 [==============================] - 0s 2ms/step\n",
      "AUC-ROC Score for Training Data:\n",
      "Category 1: 0.6964839595887984\n",
      "Category 2: 0.6964839595887984\n",
      "Average: 0.6964839595887984\n",
      "\n",
      "AUC-ROC Score for Cross-Validation Data:\n",
      "Category 1: 0.7049662445323346\n",
      "Category 2: 0.7049659716947362\n",
      "Average: 0.7049661081135354\n"
     ]
    }
   ],
   "source": [
    "# Predict probabilities for the training set\n",
    "y_pred_proba_train = model.predict(x_train)\n",
    "\n",
    "# Calculate the AUC-ROC score for each category in training data\n",
    "auc_scores_train = []\n",
    "for i in range(2):\n",
    "    y_true_train = (y_train == i).astype(int)\n",
    "    auc_score_train = roc_auc_score(y_true_train, y_pred_proba_train[:, i])\n",
    "    auc_scores_train.append(auc_score_train)\n",
    "\n",
    "# Calculate the average AUC-ROC score for training data\n",
    "avg_auc_score_train = sum(auc_scores_train) / len(auc_scores_train)\n",
    "\n",
    "# Predict probabilities for the cross-validation set (as you already have in your code)\n",
    "y_pred_proba_cv = model.predict(x_cv)\n",
    "\n",
    "# Calculate the AUC-ROC score for each category in cross-validation data (as you already have in your code)\n",
    "auc_scores_cv = []\n",
    "for i in range(2):\n",
    "    y_true_cv = (y_cv == i).astype(int)\n",
    "    auc_score_cv = roc_auc_score(y_true_cv, y_pred_proba_cv[:, i])\n",
    "    auc_scores_cv.append(auc_score_cv)\n",
    "\n",
    "# Calculate the average AUC-ROC score for cross-validation data (as you already have in your code)\n",
    "avg_auc_score_cv = sum(auc_scores_cv) / len(auc_scores_cv)\n",
    "\n",
    "# Print the AUC-ROC scores for training and cross-validation data\n",
    "print(\"AUC-ROC Score for Training Data:\")\n",
    "print(f\"Category 1: {auc_scores_train[0]}\")\n",
    "print(f\"Category 2: {auc_scores_train[1]}\")\n",
    "print(f\"Average: {avg_auc_score_train}\")\n",
    "\n",
    "print(\"\\nAUC-ROC Score for Cross-Validation Data:\")\n",
    "print(f\"Category 1: {auc_scores_cv[0]}\")\n",
    "print(f\"Category 2: {auc_scores_cv[1]}\")\n",
    "print(f\"Average: {avg_auc_score_cv}\")"
   ]
  },
  {
   "cell_type": "code",
   "execution_count": 9,
   "metadata": {},
   "outputs": [
    {
     "name": "stdout",
     "output_type": "stream",
     "text": [
      "310/310 [==============================] - 1s 2ms/step\n"
     ]
    }
   ],
   "source": [
    "y_pred = model.predict(x_test)\n",
    "\n",
    "y_pred_1, y_pred_2 = y_pred[:, 0], y_pred[:, 1]\n",
    "\n",
    "ids = df_test['id']\n",
    "\n",
    "# creating submission file\n",
    "df_y_pred_1 = pd.DataFrame({'EC1': y_pred_1})\n",
    "\n",
    "df_y_pred_2 = pd.DataFrame({'EC2': y_pred_2})\n",
    "\n",
    "df_ids = pd.DataFrame({'id': ids})\n",
    "\n",
    "result = pd.concat([df_ids, df_y_pred_1, df_y_pred_2], axis=1)\n",
    "\n",
    "result.to_csv('submissions/submission_2_neural_net_2.csv', index=False)"
   ]
  }
 ],
 "metadata": {
  "kernelspec": {
   "display_name": "Python 3",
   "language": "python",
   "name": "python3"
  },
  "language_info": {
   "codemirror_mode": {
    "name": "ipython",
    "version": 3
   },
   "file_extension": ".py",
   "mimetype": "text/x-python",
   "name": "python",
   "nbconvert_exporter": "python",
   "pygments_lexer": "ipython3",
   "version": "3.11.4"
  },
  "orig_nbformat": 4
 },
 "nbformat": 4,
 "nbformat_minor": 2
}
