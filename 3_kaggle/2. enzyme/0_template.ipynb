{
 "cells": [
  {
   "cell_type": "code",
   "execution_count": 1,
   "metadata": {},
   "outputs": [],
   "source": [
    "import pandas as pd \n",
    "import numpy as np \n",
    "\n",
    "df_train = pd.read_csv('clean_data/train.csv')\n",
    "df_test = pd.read_csv('clean_data/test.csv')\n",
    "\n",
    "target_cols = ['EC1', 'EC2']\n",
    "num_cols = ['BertzCT', 'Chi1', 'Chi1n', 'Chi1v', 'Chi2n', 'Chi2v', 'Chi3v',\n",
    "            'Chi4n', 'EState_VSA1', 'EState_VSA2', 'ExactMolWt', 'FpDensityMorgan1',\n",
    "            'FpDensityMorgan2', 'FpDensityMorgan3', 'HallKierAlpha',\n",
    "            'HeavyAtomMolWt', 'Kappa3', 'MaxAbsEStateIndex', 'MinEStateIndex',\n",
    "            'NumHeteroatoms', 'PEOE_VSA10', 'PEOE_VSA14', 'PEOE_VSA6', 'PEOE_VSA7',\n",
    "            'PEOE_VSA8', 'SMR_VSA10', 'SMR_VSA5', 'SlogP_VSA3', 'VSA_EState9',\n",
    "            'fr_COO', 'fr_COO2']\n",
    "binary_cols = ['EC3', 'EC4', 'EC5', 'EC6']\n",
    "\n",
    "x_train = df_train[num_cols].to_numpy()\n",
    "y_train = df_train[target_cols].to_numpy()\n",
    "\n",
    "x_test = df_test[num_cols].to_numpy()"
   ]
  },
  {
   "cell_type": "code",
   "execution_count": null,
   "metadata": {},
   "outputs": [],
   "source": [
    "from sklearn.model_selection import train_test_split\n",
    "\n",
    "x_train, x_cv, y_train, y_cv = train_test_split(x_train, y_train, test_size=0.2, random_state=42)"
   ]
  },
  {
   "cell_type": "code",
   "execution_count": null,
   "metadata": {},
   "outputs": [],
   "source": [
    "# y_pred_1 = \n",
    "# y_pred_2 = \n",
    "\n",
    "ids = df_test['id']\n",
    "\n",
    "# creating submission file\n",
    "df_y_pred_1 = pd.DataFrame({'EC1': y_pred_1})\n",
    "\n",
    "df_y_pred_2 = pd.DataFrame({'EC2': y_pred_2})\n",
    "\n",
    "df_ids = pd.DataFrame({'id': ids})\n",
    "\n",
    "result = pd.concat([df_ids, df_y_pred_1, df_y_pred_2], axis=1)\n",
    "\n",
    "result.to_csv('submissions/submission_1_xgboost_2.csv', index=False)"
   ]
  }
 ],
 "metadata": {
  "kernelspec": {
   "display_name": "Python 3",
   "language": "python",
   "name": "python3"
  },
  "language_info": {
   "codemirror_mode": {
    "name": "ipython",
    "version": 3
   },
   "file_extension": ".py",
   "mimetype": "text/x-python",
   "name": "python",
   "nbconvert_exporter": "python",
   "pygments_lexer": "ipython3",
   "version": "3.11.4"
  },
  "orig_nbformat": 4
 },
 "nbformat": 4,
 "nbformat_minor": 2
}
